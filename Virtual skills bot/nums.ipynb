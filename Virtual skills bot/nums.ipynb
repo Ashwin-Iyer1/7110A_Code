{
 "cells": [
  {
   "cell_type": "code",
   "execution_count": 1,
   "metadata": {},
   "outputs": [],
   "source": [
    "import pyautogui\n",
    "from time import sleep\n",
    "import easyocr\n"
   ]
  },
  {
   "cell_type": "code",
   "execution_count": 2,
   "metadata": {},
   "outputs": [
    {
     "name": "stdout",
     "output_type": "stream",
     "text": [
      "Start button not found\n"
     ]
    }
   ],
   "source": [
    "if(pyautogui.locateOnScreen('Start.png') is None):\n",
    "    print(\"Start button not found\")\n",
    "else:\n",
    "    Start = pyautogui.locateOnScreen('Start.png')\n",
    "if(pyautogui.locateOnScreen('Load.png') is None):\n",
    "    print(\"Load button not found\")\n",
    "else:\n",
    "    Load = pyautogui.locateOnScreen('Load.png')\n",
    "if(pyautogui.locateOnScreen('0.png') is None):\n",
    "    print(\"Cannot find score\")\n",
    "else:\n",
    "    Score = pyautogui.locateOnScreen('0.png')"
   ]
  },
  {
   "cell_type": "code",
   "execution_count": 11,
   "metadata": {},
   "outputs": [],
   "source": [
    "found = False\n",
    "found2 = False\n",
    "def first_Balls():\n",
    "    pyautogui.click(Start)\n",
    "    sleep(20)\n",
    "    pyautogui.screenshot('screenshot.png', region=(Score))\n",
    "    score = easyocr.Reader(['en']).readtext('screenshot.png', detail = 0)\n",
    "    print(score[0])\n",
    "    if(score[0] < 30):\n",
    "        pyautogui.click(Start)\n",
    "        print(\"Points not high enough, running again\")\n",
    "        sleep(2)\n",
    "        first_Balls()\n",
    "    else:\n",
    "        second_Balls()\n",
    "\n",
    "\n",
    "def second_Balls():\n",
    "    for i in range(0, 40):\n",
    "        sleep(1)\n",
    "        pyautogui.click(Load)\n",
    "    while(found != True and found2 != True):\n",
    "        if(pyautogui.locateOnScreen('Submit.png') is None):\n",
    "            print(\"Submit button not found\")\n",
    "        else:\n",
    "            found = True\n",
    "            Submit = pyautogui.locateOnScreen('Submit.png')\n",
    "        if(pyautogui.locateOnScreen('Restart.png') is None):\n",
    "            print(\"Restart button not found\")\n",
    "        else:\n",
    "            found2 = True\n",
    "            Restart = pyautogui.locateOnScreen('Restart.png')\n",
    "    sleep(2)\n",
    "    pyautogui.click(Submit)\n",
    "    sleep(2)\n",
    "    pyautogui.click(Restart)\n",
    "    sleep(2)\n",
    "    first_Balls()\n",
    "\n",
    "\n",
    "first_Balls()"
   ]
  }
 ],
 "metadata": {
  "kernelspec": {
   "display_name": "Python 3",
   "language": "python",
   "name": "python3"
  },
  "language_info": {
   "codemirror_mode": {
    "name": "ipython",
    "version": 3
   },
   "file_extension": ".py",
   "mimetype": "text/x-python",
   "name": "python",
   "nbconvert_exporter": "python",
   "pygments_lexer": "ipython3",
   "version": "3.9.9"
  },
  "orig_nbformat": 4
 },
 "nbformat": 4,
 "nbformat_minor": 2
}
