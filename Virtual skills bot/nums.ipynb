{
 "cells": [
  {
   "cell_type": "code",
   "execution_count": 1,
   "metadata": {},
   "outputs": [],
   "source": [
    "import pyautogui\n",
    "from time import sleep\n"
   ]
  },
  {
   "cell_type": "code",
   "execution_count": 2,
   "metadata": {},
   "outputs": [],
   "source": [
    "if(pyautogui.locateOnScreen('Start.png') is None):\n",
    "    print(\"Start button not found\")\n",
    "else:\n",
    "    Start = pyautogui.locateOnScreen('Start.png')"
   ]
  },
  {
   "cell_type": "code",
   "execution_count": 3,
   "metadata": {},
   "outputs": [],
   "source": [
    "#import sleep\n",
    "found = False\n",
    "found2 = False\n",
    "while(True):\n",
    "    pyautogui.click(Start)\n",
    "    sleep(30)\n",
    "    pyautogui.click(Start)\n",
    "    sleep(2)\n",
    "    while(found != True and found2 != True):\n",
    "        if(pyautogui.locateOnScreen('Submit.png') is None):\n",
    "            print(\"Submit button not found\")\n",
    "        else:\n",
    "            found = True\n",
    "            Submit = pyautogui.locateOnScreen('Submit.png')\n",
    "        if(pyautogui.locateOnScreen('Restart.png') is None):\n",
    "            print(\"Restart button not found\")\n",
    "        else:\n",
    "            found2 = True\n",
    "            Restart = pyautogui.locateOnScreen('Restart.png')\n",
    "    pyautogui.click(Submit)\n",
    "    sleep(2)\n",
    "    pyautogui.click(Restart)\n",
    "    sleep(5)\n"
   ]
  }
 ],
 "metadata": {
  "kernelspec": {
   "display_name": "Python 3",
   "language": "python",
   "name": "python3"
  },
  "language_info": {
   "codemirror_mode": {
    "name": "ipython",
    "version": 3
   },
   "file_extension": ".py",
   "mimetype": "text/x-python",
   "name": "python",
   "nbconvert_exporter": "python",
   "pygments_lexer": "ipython3",
   "version": "3.9.9"
  },
  "orig_nbformat": 4
 },
 "nbformat": 4,
 "nbformat_minor": 2
}
