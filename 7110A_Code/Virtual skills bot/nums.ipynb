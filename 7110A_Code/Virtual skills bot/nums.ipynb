{
 "cells": [
  {
   "cell_type": "code",
   "execution_count": 1,
   "metadata": {},
   "outputs": [],
   "source": [
    "import pyautogui\n",
    "from time import sleep\n",
    "import easyocr\n"
   ]
  },
  {
   "cell_type": "code",
   "execution_count": 3,
   "metadata": {},
   "outputs": [],
   "source": [
    "if(pyautogui.locateOnScreen('Start.png') is None):\n",
    "    print(\"Start button not found\")\n",
    "else:\n",
    "    Start = pyautogui.locateOnScreen('Start.png')\n",
    "if(pyautogui.locateOnScreen('Load.png') is None):\n",
    "    print(\"Load button not found\")\n",
    "else:\n",
    "    Load = pyautogui.locateOnScreen('Load.png')\n",
    "if(pyautogui.locateOnScreen('0.png') is None):\n",
    "    print(\"Cannot find score\")\n",
    "else:\n",
    "    Score = pyautogui.locateOnScreen('0.png')"
   ]
  },
  {
   "cell_type": "code",
   "execution_count": 4,
   "metadata": {},
   "outputs": [
    {
     "ename": "KeyboardInterrupt",
     "evalue": "",
     "output_type": "error",
     "traceback": [
      "\u001b[1;31m---------------------------------------------------------------------------\u001b[0m",
      "\u001b[1;31mKeyboardInterrupt\u001b[0m                         Traceback (most recent call last)",
      "\u001b[1;32mc:\\Users\\s611863\\Downloads\\Github Codes\\7110A_Code\\Virtual skills bot\\nums.ipynb Cell 3\u001b[0m line \u001b[0;36m4\n\u001b[0;32m     <a href='vscode-notebook-cell:/c%3A/Users/s611863/Downloads/Github%20Codes/7110A_Code/Virtual%20skills%20bot/nums.ipynb#W2sZmlsZQ%3D%3D?line=36'>37</a>\u001b[0m     sleep(\u001b[39m2\u001b[39m)\n\u001b[0;32m     <a href='vscode-notebook-cell:/c%3A/Users/s611863/Downloads/Github%20Codes/7110A_Code/Virtual%20skills%20bot/nums.ipynb#W2sZmlsZQ%3D%3D?line=37'>38</a>\u001b[0m     first_Balls()\n\u001b[1;32m---> <a href='vscode-notebook-cell:/c%3A/Users/s611863/Downloads/Github%20Codes/7110A_Code/Virtual%20skills%20bot/nums.ipynb#W2sZmlsZQ%3D%3D?line=40'>41</a>\u001b[0m first_Balls()\n",
      "\u001b[1;32mc:\\Users\\s611863\\Downloads\\Github Codes\\7110A_Code\\Virtual skills bot\\nums.ipynb Cell 3\u001b[0m line \u001b[0;36m5\n\u001b[0;32m      <a href='vscode-notebook-cell:/c%3A/Users/s611863/Downloads/Github%20Codes/7110A_Code/Virtual%20skills%20bot/nums.ipynb#W2sZmlsZQ%3D%3D?line=2'>3</a>\u001b[0m \u001b[39mdef\u001b[39;00m \u001b[39mfirst_Balls\u001b[39m():\n\u001b[0;32m      <a href='vscode-notebook-cell:/c%3A/Users/s611863/Downloads/Github%20Codes/7110A_Code/Virtual%20skills%20bot/nums.ipynb#W2sZmlsZQ%3D%3D?line=3'>4</a>\u001b[0m     pyautogui\u001b[39m.\u001b[39mclick(Start)\n\u001b[1;32m----> <a href='vscode-notebook-cell:/c%3A/Users/s611863/Downloads/Github%20Codes/7110A_Code/Virtual%20skills%20bot/nums.ipynb#W2sZmlsZQ%3D%3D?line=4'>5</a>\u001b[0m     sleep(\u001b[39m20\u001b[39;49m)\n\u001b[0;32m      <a href='vscode-notebook-cell:/c%3A/Users/s611863/Downloads/Github%20Codes/7110A_Code/Virtual%20skills%20bot/nums.ipynb#W2sZmlsZQ%3D%3D?line=5'>6</a>\u001b[0m     pyautogui\u001b[39m.\u001b[39mscreenshot(\u001b[39m'\u001b[39m\u001b[39mscreenshot.png\u001b[39m\u001b[39m'\u001b[39m, region\u001b[39m=\u001b[39m(Score))\n\u001b[0;32m      <a href='vscode-notebook-cell:/c%3A/Users/s611863/Downloads/Github%20Codes/7110A_Code/Virtual%20skills%20bot/nums.ipynb#W2sZmlsZQ%3D%3D?line=6'>7</a>\u001b[0m     score \u001b[39m=\u001b[39m easyocr\u001b[39m.\u001b[39mReader([\u001b[39m'\u001b[39m\u001b[39men\u001b[39m\u001b[39m'\u001b[39m])\u001b[39m.\u001b[39mreadtext(\u001b[39m'\u001b[39m\u001b[39mscreenshot.png\u001b[39m\u001b[39m'\u001b[39m, detail \u001b[39m=\u001b[39m \u001b[39m0\u001b[39m)\n",
      "\u001b[1;31mKeyboardInterrupt\u001b[0m: "
     ]
    }
   ],
   "source": [
    "found = False\n",
    "found2 = False\n",
    "def first_Balls():\n",
    "    pyautogui.click(Start)\n",
    "    sleep(20)\n",
    "    pyautogui.screenshot('screenshot.png', region=(Score))\n",
    "    score = easyocr.Reader(['en']).readtext('screenshot.png', detail = 0)\n",
    "    print(score[0])\n",
    "    if(score[0] < 30):\n",
    "        pyautogui.click(Start)\n",
    "        print(\"Points not high enough, running again\")\n",
    "        sleep(2)\n",
    "        first_Balls()\n",
    "    else:\n",
    "        second_Balls()\n",
    "\n",
    "\n",
    "def second_Balls():\n",
    "    for i in range(0, 40):\n",
    "        sleep(1)\n",
    "        pyautogui.click(Load)\n",
    "    while(found != True and found2 != True):\n",
    "        if(pyautogui.locateOnScreen('Submit.png') is None):\n",
    "            print(\"Submit button not found\")\n",
    "        else:\n",
    "            found = True\n",
    "            Submit = pyautogui.locateOnScreen('Submit.png')\n",
    "        if(pyautogui.locateOnScreen('Restart.png') is None):\n",
    "            print(\"Restart button not found\")\n",
    "        else:\n",
    "            found2 = True\n",
    "            Restart = pyautogui.locateOnScreen('Restart.png')\n",
    "    sleep(2)\n",
    "    pyautogui.click(Submit)\n",
    "    sleep(2)\n",
    "    pyautogui.click(Restart)\n",
    "    sleep(2)\n",
    "    first_Balls()\n",
    "\n",
    "\n",
    "first_Balls()"
   ]
  }
 ],
 "metadata": {
  "kernelspec": {
   "display_name": "Python 3",
   "language": "python",
   "name": "python3"
  },
  "language_info": {
   "codemirror_mode": {
    "name": "ipython",
    "version": 3
   },
   "file_extension": ".py",
   "mimetype": "text/x-python",
   "name": "python",
   "nbconvert_exporter": "python",
   "pygments_lexer": "ipython3",
   "version": "3.9.9"
  },
  "orig_nbformat": 4
 },
 "nbformat": 4,
 "nbformat_minor": 2
}
